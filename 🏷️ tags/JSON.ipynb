{
 "cells": [
  {
   "cell_type": "code",
   "execution_count": 2,
   "id": "73ff013f",
   "metadata": {},
   "outputs": [],
   "source": [
    "let user = {\n",
    "    name: 'John',\n",
    "    age: 30,\n",
    "    \n",
    "    toString() {\n",
    "        return `{name: \"${this.name}\", age: ${this.age}}`;\n",
    "    }\n",
    "};"
   ]
  },
  {
   "cell_type": "code",
   "execution_count": 3,
   "id": "dd003354",
   "metadata": {},
   "outputs": [
    {
     "name": "stdout",
     "output_type": "stream",
     "text": [
      "{ name: 'John', age: 30, toString: [Function: toString] }\n"
     ]
    }
   ],
   "source": [
    "console.log(user);"
   ]
  },
  {
   "attachments": {},
   "cell_type": "markdown",
   "id": "798de714",
   "metadata": {},
   "source": [
    "### JSON.stringify\n",
    "\n",
    "JavaScript provides methods:\n",
    "\n",
    "* `JSON.stringify` to convert objects into JSON.\n",
    "* `JSON.parse` to convert JSON back into an object."
   ]
  },
  {
   "cell_type": "code",
   "execution_count": 4,
   "id": "861c4e9d",
   "metadata": {},
   "outputs": [],
   "source": [
    "let student = {\n",
    "    name: \"John\",\n",
    "    age: 30,\n",
    "    isAdmin: false,\n",
    "    enrolledCourses: [\n",
    "        'Operating System',\n",
    "        'Data Structures',\n",
    "        'Database Management System',\n",
    "        'Distributed System'\n",
    "    ],\n",
    "    spouse: null,\n",
    "};"
   ]
  },
  {
   "cell_type": "code",
   "execution_count": 5,
   "id": "79d33164",
   "metadata": {},
   "outputs": [
    {
     "data": {
      "text/plain": [
       "'{\"name\":\"John\",\"age\":30,\"isAdmin\":false,\"enrolledCourses\":[\"Operating System\",\"Data Structures\",\"Database Management System\",\"Distributed System\"],\"spouse\":null}'"
      ]
     },
     "execution_count": 5,
     "metadata": {},
     "output_type": "execute_result"
    }
   ],
   "source": [
    "let jsonStudent = JSON.stringify(student);\n",
    "jsonStudent;"
   ]
  },
  {
   "cell_type": "code",
   "execution_count": 6,
   "id": "8672b5f2",
   "metadata": {},
   "outputs": [
    {
     "data": {
      "text/plain": [
       "'string'"
      ]
     },
     "execution_count": 6,
     "metadata": {},
     "output_type": "execute_result"
    }
   ],
   "source": [
    "typeof(jsonStudent);"
   ]
  },
  {
   "attachments": {},
   "cell_type": "markdown",
   "id": "8dd14f18",
   "metadata": {},
   "source": [
    "JSON supports following data types:\n",
    "\n",
    "* Objects `{ ... }`\n",
    "* Arrays `[ ... ]`\n",
    "* Primitives:\n",
    "    * strings,\n",
    "    * numbers,\n",
    "    * boolean values `true/false`,\n",
    "    * null."
   ]
  },
  {
   "cell_type": "code",
   "execution_count": 7,
   "id": "b593ddfb",
   "metadata": {},
   "outputs": [
    {
     "data": {
      "text/plain": [
       "'1'"
      ]
     },
     "execution_count": 7,
     "metadata": {},
     "output_type": "execute_result"
    }
   ],
   "source": [
    "JSON.stringify(1);"
   ]
  },
  {
   "cell_type": "code",
   "execution_count": 8,
   "id": "df46ff25",
   "metadata": {},
   "outputs": [
    {
     "data": {
      "text/plain": [
       "'\"hello\"'"
      ]
     },
     "execution_count": 8,
     "metadata": {},
     "output_type": "execute_result"
    }
   ],
   "source": [
    "JSON.stringify('hello');"
   ]
  },
  {
   "cell_type": "code",
   "execution_count": 9,
   "id": "f7ac5c14",
   "metadata": {},
   "outputs": [
    {
     "data": {
      "text/plain": [
       "'true'"
      ]
     },
     "execution_count": 9,
     "metadata": {},
     "output_type": "execute_result"
    }
   ],
   "source": [
    "JSON.stringify(true);"
   ]
  },
  {
   "cell_type": "code",
   "execution_count": 10,
   "id": "e4d2ea6b",
   "metadata": {},
   "outputs": [
    {
     "data": {
      "text/plain": [
       "'[1,2,3]'"
      ]
     },
     "execution_count": 10,
     "metadata": {},
     "output_type": "execute_result"
    }
   ],
   "source": [
    "JSON.stringify([1, 2, 3]);"
   ]
  },
  {
   "cell_type": "code",
   "execution_count": 11,
   "id": "a9610e16",
   "metadata": {},
   "outputs": [
    {
     "data": {
      "text/plain": [
       "'null'"
      ]
     },
     "execution_count": 11,
     "metadata": {},
     "output_type": "execute_result"
    }
   ],
   "source": [
    "JSON.stringify(null);"
   ]
  },
  {
   "attachments": {},
   "cell_type": "markdown",
   "id": "f38c0f2a",
   "metadata": {},
   "source": [
    "JSON is data-only language-independent specification, so some JavaScript-specific object properties are skipped by `JSON.stringify`.\n",
    "\n",
    "* Function properties (methods).\n",
    "* Symbolic keys and values.\n",
    "* Properties that store `undefined`."
   ]
  },
  {
   "cell_type": "code",
   "execution_count": 12,
   "id": "92083282",
   "metadata": {},
   "outputs": [
    {
     "data": {
      "text/plain": [
       "{ sayHi: [Function: sayHi], something: undefined, [Symbol(id)]: 123 }"
      ]
     },
     "execution_count": 12,
     "metadata": {},
     "output_type": "execute_result"
    }
   ],
   "source": [
    "user = {\n",
    "    sayHi() {\n",
    "        console.log('Hello');\n",
    "    },\n",
    "    [Symbol('id')]: 123,\n",
    "    something: undefined,\n",
    "};\n",
    "\n",
    "user;"
   ]
  },
  {
   "cell_type": "code",
   "execution_count": 13,
   "id": "6a3704aa",
   "metadata": {},
   "outputs": [
    {
     "data": {
      "text/plain": [
       "'{}'"
      ]
     },
     "execution_count": 13,
     "metadata": {},
     "output_type": "execute_result"
    }
   ],
   "source": [
    "JSON.stringify(user);"
   ]
  },
  {
   "cell_type": "code",
   "execution_count": 14,
   "id": "8da10525",
   "metadata": {},
   "outputs": [
    {
     "data": {
      "text/plain": [
       "'{\"title\":\"Conference\",\"room\":{\"number\":23,\"participants\":[\"John\",\"Anna\"]}}'"
      ]
     },
     "execution_count": 14,
     "metadata": {},
     "output_type": "execute_result"
    }
   ],
   "source": [
    "// nested objects are supported and converted\n",
    "\n",
    "let meetup = {\n",
    "    title: 'Conference',\n",
    "    room: {\n",
    "        number: 23,\n",
    "        participants: [\n",
    "            'John',\n",
    "            'Anna'\n",
    "        ],\n",
    "    },\n",
    "};\n",
    "\n",
    "JSON.stringify(meetup);"
   ]
  },
  {
   "attachments": {},
   "cell_type": "markdown",
   "id": "f94174cd",
   "metadata": {},
   "source": [
    "> The important limitation: there must be no circular references."
   ]
  },
  {
   "cell_type": "code",
   "execution_count": 15,
   "id": "3de3ad51",
   "metadata": {},
   "outputs": [
    {
     "ename": "TypeError",
     "evalue": "Converting circular structure to JSON\n    --> starting at object with constructor 'Object'\n    |     property 'place' -> object with constructor 'Object'\n    --- property 'occupiedBy' closes the circle",
     "output_type": "error",
     "traceback": [
      "evalmachine.<anonymous>:16",
      "JSON.stringify(meetup);",
      "     ^",
      "",
      "TypeError: Converting circular structure to JSON",
      "    --> starting at object with constructor 'Object'",
      "    |     property 'place' -> object with constructor 'Object'",
      "    --- property 'occupiedBy' closes the circle",
      "    at JSON.stringify (<anonymous>)",
      "    at evalmachine.<anonymous>:16:6",
      "    at Script.runInThisContext (node:vm:129:12)",
      "    at Object.runInThisContext (node:vm:305:38)",
      "    at run ([eval]:1020:15)",
      "    at onRunRequest ([eval]:864:18)",
      "    at onMessage ([eval]:828:13)",
      "    at process.emit (node:events:527:28)",
      "    at emit (node:internal/child_process:938:14)",
      "    at processTicksAndRejections (node:internal/process/task_queues:84:21)"
     ]
    }
   ],
   "source": [
    "let room = {\n",
    "    number: 23\n",
    "};\n",
    "\n",
    "meetup = {\n",
    "    title: 'Conference',\n",
    "    participants: [\n",
    "            'John',\n",
    "            'Anna'\n",
    "    ],\n",
    "};\n",
    "\n",
    "meetup.place = room; // meetup references room\n",
    "room.occupiedBy = meetup; // room references meetup\n",
    "\n",
    "JSON.stringify(meetup);"
   ]
  },
  {
   "attachments": {},
   "cell_type": "markdown",
   "id": "0815698f",
   "metadata": {},
   "source": [
    "Here, the conversion fails, because of circular reference: `room.occupiedBy` references `meetup`, and `meetup.place` references `room`:\n",
    "\n",
    "\n",
    "![circular-references](https://i.ibb.co/mh0vmFK/image.png)"
   ]
  },
  {
   "attachments": {},
   "cell_type": "markdown",
   "id": "0b786937",
   "metadata": {},
   "source": [
    "> Full Syntax: `JSON.stringify(value[, replacer, space])`"
   ]
  },
  {
   "cell_type": "code",
   "execution_count": 16,
   "id": "1ded9123",
   "metadata": {},
   "outputs": [
    {
     "ename": "TypeError",
     "evalue": "Converting circular structure to JSON\n    --> starting at object with constructor 'Object'\n    |     property 'occupiedBy' -> object with constructor 'Object'\n    --- property 'place' closes the circle",
     "output_type": "error",
     "traceback": [
      "evalmachine.<anonymous>:1",
      "JSON.stringify(room);",
      "     ^",
      "",
      "TypeError: Converting circular structure to JSON",
      "    --> starting at object with constructor 'Object'",
      "    |     property 'occupiedBy' -> object with constructor 'Object'",
      "    --- property 'place' closes the circle",
      "    at JSON.stringify (<anonymous>)",
      "    at evalmachine.<anonymous>:1:6",
      "    at Script.runInThisContext (node:vm:129:12)",
      "    at Object.runInThisContext (node:vm:305:38)",
      "    at run ([eval]:1020:15)",
      "    at onRunRequest ([eval]:864:18)",
      "    at onMessage ([eval]:828:13)",
      "    at process.emit (node:events:527:28)",
      "    at emit (node:internal/child_process:938:14)",
      "    at processTicksAndRejections (node:internal/process/task_queues:84:21)"
     ]
    }
   ],
   "source": [
    "JSON.stringify(room);"
   ]
  },
  {
   "attachments": {},
   "cell_type": "markdown",
   "id": "a452165e",
   "metadata": {},
   "source": [
    "### Excluding and transforming: replacer"
   ]
  },
  {
   "cell_type": "code",
   "execution_count": 17,
   "id": "d568f51a",
   "metadata": {},
   "outputs": [
    {
     "data": {
      "text/plain": [
       "<ref *1> {\n",
       "  title: 'Conference',\n",
       "  participants: [ { name: 'John' }, { name: 'Alice' } ],\n",
       "  place: { number: 23, occupiedBy: [Circular *1] }\n",
       "}"
      ]
     },
     "execution_count": 17,
     "metadata": {},
     "output_type": "execute_result"
    }
   ],
   "source": [
    "room = {\n",
    "    number: 23,\n",
    "};\n",
    "\n",
    "meetup = {\n",
    "    title: 'Conference',\n",
    "    participants: [\n",
    "        {name: 'John'},\n",
    "        {name: 'Alice'},\n",
    "    ],\n",
    "    place: room,\n",
    "};\n",
    "\n",
    "room.occupiedBy = meetup; // room references meetup"
   ]
  },
  {
   "cell_type": "code",
   "execution_count": 18,
   "id": "21740bdf",
   "metadata": {},
   "outputs": [
    {
     "data": {
      "text/plain": [
       "'{\"number\":23}'"
      ]
     },
     "execution_count": 18,
     "metadata": {},
     "output_type": "execute_result"
    }
   ],
   "source": [
    "JSON.stringify(room, ['number']);"
   ]
  },
  {
   "cell_type": "code",
   "execution_count": 19,
   "id": "a0039d34",
   "metadata": {},
   "outputs": [
    {
     "data": {
      "text/plain": [
       "'{\"title\":\"Conference\",\"participants\":[{},{}]}'"
      ]
     },
     "execution_count": 19,
     "metadata": {},
     "output_type": "execute_result"
    }
   ],
   "source": [
    "JSON.stringify(meetup, [\n",
    "    'title',\n",
    "    'participants'\n",
    "]);\n",
    "\n",
    "// expected output: {\"title\":\"Conference\",\"participants\":[{},{}]}"
   ]
  },
  {
   "cell_type": "code",
   "execution_count": 20,
   "id": "d087b73d",
   "metadata": {},
   "outputs": [
    {
     "data": {
      "text/plain": [
       "'{\"title\":\"Conference\",\"participants\":[{\"name\":\"John\"},{\"name\":\"Alice\"}],\"place\":{\"number\":23}}'"
      ]
     },
     "execution_count": 20,
     "metadata": {},
     "output_type": "execute_result"
    }
   ],
   "source": [
    "JSON.stringify(meetup, [\n",
    "    'title',\n",
    "    'participants',\n",
    "    'place',\n",
    "    'name',\n",
    "    'number'\n",
    "]); \n",
    "\n",
    "// Expected output: {\"title\":\"Conference\",\"participants\":[{\"name\":\"John\"},{\"name\":\"Alice\"}],\"place\":{\"number\":23}}"
   ]
  },
  {
   "cell_type": "code",
   "execution_count": 21,
   "id": "75968f74",
   "metadata": {},
   "outputs": [
    {
     "data": {
      "text/plain": [
       "<ref *1> {\n",
       "  title: 'Conference',\n",
       "  participants: [ { name: 'John' }, { name: 'Alice' } ],\n",
       "  place: { number: 23, occupiedBy: [Circular *1] }\n",
       "}"
      ]
     },
     "execution_count": 21,
     "metadata": {},
     "output_type": "execute_result"
    }
   ],
   "source": [
    "meetup;"
   ]
  },
  {
   "cell_type": "code",
   "execution_count": 22,
   "id": "e409f2c9",
   "metadata": {},
   "outputs": [
    {
     "data": {
      "text/plain": [
       "<ref *1> {\n",
       "  number: 23,\n",
       "  occupiedBy: {\n",
       "    title: 'Conference',\n",
       "    participants: [ [Object], [Object] ],\n",
       "    place: [Circular *1]\n",
       "  }\n",
       "}"
      ]
     },
     "execution_count": 22,
     "metadata": {},
     "output_type": "execute_result"
    }
   ],
   "source": [
    "room;"
   ]
  },
  {
   "attachments": {},
   "cell_type": "markdown",
   "id": "a4de46e9",
   "metadata": {},
   "source": [
    "we can use a function instead of an array as the `replacer`.\n",
    "\n",
    "The function will be called for every `(key, value)` pair and should return the “replaced” value, which will be used instead of the original one. Or `undefined` if the value is to be skipped."
   ]
  },
  {
   "cell_type": "code",
   "execution_count": 23,
   "id": "09945543",
   "metadata": {},
   "outputs": [
    {
     "name": "stdout",
     "output_type": "stream",
     "text": [
      ": [object Object]\n",
      "title: Conference\n",
      "participants: [object Object],[object Object]\n",
      "0: [object Object]\n",
      "name: John\n",
      "1: [object Object]\n",
      "name: Alice\n",
      "place: [object Object]\n",
      "number: 23\n",
      "occupiedBy: [object Object]\n"
     ]
    },
    {
     "data": {
      "text/plain": [
       "'{\"title\":\"Conference\",\"participants\":[{\"name\":\"John\"},{\"name\":\"Alice\"}],\"place\":{\"number\":23}}'"
      ]
     },
     "execution_count": 23,
     "metadata": {},
     "output_type": "execute_result"
    }
   ],
   "source": [
    "room = {\n",
    "  number: 23\n",
    "};\n",
    "\n",
    "meetup = {\n",
    "  title: \"Conference\",\n",
    "  participants: [{name: \"John\"}, {name: \"Alice\"}],\n",
    "  place: room // meetup references room\n",
    "};\n",
    "\n",
    "room.occupiedBy = meetup; // room references meetup\n",
    "\n",
    "JSON.stringify(meetup, (key, value) => {\n",
    "    console.log(`${key}: ${value}`);\n",
    "    return (key == 'occupiedBy') ? undefined: value;\n",
    "});"
   ]
  },
  {
   "attachments": {},
   "cell_type": "markdown",
   "id": "a5e1c4f5",
   "metadata": {},
   "source": [
    "Please note that `replacer` function gets every `key/value` pair including nested objects and array items. It is applied recursively. The value of `this` inside `replacer` is the object that contains the current property.\n",
    "\n",
    "The first call is special. It is made using a special “wrapper object”: `{\"\": meetup}`. In other words, the first `(key, value)` pair has an empty key, and the value is the target object as a whole. That’s why the first line is `\":[object Object]\"` in the example above."
   ]
  },
  {
   "attachments": {},
   "cell_type": "markdown",
   "id": "9a46def9",
   "metadata": {},
   "source": [
    "### Formatting: space"
   ]
  },
  {
   "cell_type": "code",
   "execution_count": 24,
   "id": "7341c997",
   "metadata": {},
   "outputs": [
    {
     "data": {
      "text/plain": [
       "'{\\n' +\n",
       "  '  \"name\": \"John\",\\n' +\n",
       "  '  \"age\": 25,\\n' +\n",
       "  '  \"roles\": {\\n' +\n",
       "  '    \"isAdmin\": false,\\n' +\n",
       "  '    \"isEditor\": true\\n' +\n",
       "  '  }\\n' +\n",
       "  '}'"
      ]
     },
     "execution_count": 24,
     "metadata": {},
     "output_type": "execute_result"
    }
   ],
   "source": [
    "user = {\n",
    "   name: \"John\",\n",
    "  age: 25,\n",
    "  roles: {\n",
    "    isAdmin: false,\n",
    "    isEditor: true\n",
    "  } \n",
    "};\n",
    "\n",
    "JSON.stringify(user, null, 2);"
   ]
  },
  {
   "cell_type": "code",
   "execution_count": 25,
   "id": "5589faed",
   "metadata": {},
   "outputs": [
    {
     "data": {
      "text/plain": [
       "'{\\n' +\n",
       "  '    \"name\": \"John\",\\n' +\n",
       "  '    \"age\": 25,\\n' +\n",
       "  '    \"roles\": {\\n' +\n",
       "  '        \"isAdmin\": false,\\n' +\n",
       "  '        \"isEditor\": true\\n' +\n",
       "  '    }\\n' +\n",
       "  '}'"
      ]
     },
     "execution_count": 25,
     "metadata": {},
     "output_type": "execute_result"
    }
   ],
   "source": [
    "JSON.stringify(user, null, 4);"
   ]
  },
  {
   "cell_type": "code",
   "execution_count": 26,
   "id": "19f0b1b0",
   "metadata": {},
   "outputs": [
    {
     "data": {
      "text/plain": [
       "'{\\n' +\n",
       "  '  \"name\": \"John\",\\n' +\n",
       "  '  \"age\": 25,\\n' +\n",
       "  '  \"roles\": {\\n' +\n",
       "  '    \"isAdmin\": false,\\n' +\n",
       "  '    \"isEditor\": true\\n' +\n",
       "  '  }\\n' +\n",
       "  '}'"
      ]
     },
     "execution_count": 26,
     "metadata": {},
     "output_type": "execute_result"
    }
   ],
   "source": [
    "JSON.stringify(user, null, space=2);"
   ]
  },
  {
   "cell_type": "code",
   "execution_count": 27,
   "id": "c58440e8",
   "metadata": {},
   "outputs": [
    {
     "data": {
      "text/plain": [
       "'{\"name\":\"John\",\"age\":25,\"roles\":{\"isAdmin\":false,\"isEditor\":true}}'"
      ]
     },
     "execution_count": 27,
     "metadata": {},
     "output_type": "execute_result"
    }
   ],
   "source": [
    "JSON.stringify(user, space=2);"
   ]
  },
  {
   "cell_type": "code",
   "execution_count": 28,
   "id": "dbac9b70",
   "metadata": {},
   "outputs": [
    {
     "data": {
      "text/plain": [
       "'{\\n' +\n",
       "  '  \"name\": \"John\",\\n' +\n",
       "  '  \"age\": 25,\\n' +\n",
       "  '  \"roles\": {\\n' +\n",
       "  '    \"isAdmin\": false,\\n' +\n",
       "  '    \"isEditor\": true\\n' +\n",
       "  '  }\\n' +\n",
       "  '}'"
      ]
     },
     "execution_count": 28,
     "metadata": {},
     "output_type": "execute_result"
    }
   ],
   "source": [
    "JSON.stringify(value=user, replacer=null, space=2);"
   ]
  },
  {
   "attachments": {},
   "cell_type": "markdown",
   "id": "839a3d5a",
   "metadata": {},
   "source": [
    "The third argument can also be a string. In this case, the string is used for indentation instead of a number of spaces."
   ]
  },
  {
   "cell_type": "code",
   "execution_count": 29,
   "id": "932acf66",
   "metadata": {},
   "outputs": [
    {
     "data": {
      "text/plain": [
       "'{\\n' +\n",
       "  '2\"name\": \"John\",\\n' +\n",
       "  '2\"age\": 25,\\n' +\n",
       "  '2\"roles\": {\\n' +\n",
       "  '22\"isAdmin\": false,\\n' +\n",
       "  '22\"isEditor\": true\\n' +\n",
       "  '2}\\n' +\n",
       "  '}'"
      ]
     },
     "execution_count": 29,
     "metadata": {},
     "output_type": "execute_result"
    }
   ],
   "source": [
    "JSON.stringify(value=user, replacer=null, space=\"2\");"
   ]
  },
  {
   "attachments": {},
   "cell_type": "markdown",
   "id": "a6ba194c",
   "metadata": {},
   "source": [
    "### Custom \"toJSON\" Implementation"
   ]
  },
  {
   "cell_type": "code",
   "execution_count": 30,
   "id": "235444dd",
   "metadata": {},
   "outputs": [
    {
     "data": {
      "text/plain": [
       "'{\"title\":\"Conference\",\"date\":\"6/2/2023\",\"room\":{\"number\":23}}'"
      ]
     },
     "execution_count": 30,
     "metadata": {},
     "output_type": "execute_result"
    }
   ],
   "source": [
    "room = {\n",
    "    number: 23,\n",
    "};\n",
    "\n",
    "meetup = {\n",
    "    title: 'Conference',\n",
    "    date: new Date().toLocaleDateString(), // toJSON() method is built in date object\n",
    "    room,\n",
    "};\n",
    "\n",
    "JSON.stringify(meetup);"
   ]
  },
  {
   "cell_type": "code",
   "execution_count": 31,
   "id": "ac02c72e",
   "metadata": {},
   "outputs": [
    {
     "data": {
      "text/plain": [
       "'\"Hello\"'"
      ]
     },
     "execution_count": 31,
     "metadata": {},
     "output_type": "execute_result"
    }
   ],
   "source": [
    "// Custom toJSON\n",
    "\n",
    "room = {\n",
    "    number: 23,\n",
    "    toJSON() {\n",
    "        return 'Hello';\n",
    "    },\n",
    "};\n",
    "\n",
    "JSON.stringify(room);"
   ]
  },
  {
   "cell_type": "code",
   "execution_count": 32,
   "id": "5ae920db",
   "metadata": {},
   "outputs": [
    {
     "data": {
      "text/plain": [
       "'23'"
      ]
     },
     "execution_count": 32,
     "metadata": {},
     "output_type": "execute_result"
    }
   ],
   "source": [
    "room = {\n",
    "    number: 23,\n",
    "    toJSON() {\n",
    "        return this.number;\n",
    "    },\n",
    "};\n",
    "\n",
    "meetup = {\n",
    "    title: 'Conference',\n",
    "    room,\n",
    "};\n",
    "\n",
    "JSON.stringify(room);"
   ]
  },
  {
   "cell_type": "code",
   "execution_count": 33,
   "id": "cc2050b5",
   "metadata": {},
   "outputs": [
    {
     "data": {
      "text/plain": [
       "'{\"title\":\"Conference\",\"room\":23}'"
      ]
     },
     "execution_count": 33,
     "metadata": {},
     "output_type": "execute_result"
    }
   ],
   "source": [
    "JSON.stringify(meetup);"
   ]
  },
  {
   "attachments": {},
   "cell_type": "markdown",
   "id": "6f56900e",
   "metadata": {},
   "source": [
    "### JSON.parse\n",
    "\n",
    "> Full Syntax: `JSON.parse(str, [reviver]);`"
   ]
  },
  {
   "cell_type": "code",
   "execution_count": 34,
   "id": "9b56ae27",
   "metadata": {},
   "outputs": [
    {
     "data": {
      "text/plain": [
       "[ 0, 1, 2, 3 ]"
      ]
     },
     "execution_count": 34,
     "metadata": {},
     "output_type": "execute_result"
    }
   ],
   "source": [
    "let numbers = \"[0, 1, 2, 3]\";\n",
    "JSON.parse(str=numbers);"
   ]
  },
  {
   "cell_type": "code",
   "execution_count": 35,
   "id": "526a65b0",
   "metadata": {},
   "outputs": [
    {
     "data": {
      "text/plain": [
       "{ name: 'John', age: 35, isAdmin: false, friends: [ 0, 1, 2, 3 ] }"
      ]
     },
     "execution_count": 35,
     "metadata": {},
     "output_type": "execute_result"
    }
   ],
   "source": [
    "let userData = '{ \"name\": \"John\", \"age\": 35, \"isAdmin\": false, \"friends\": [0,1,2,3] }';\n",
    "JSON.parse(str=userData);"
   ]
  },
  {
   "cell_type": "code",
   "execution_count": 36,
   "id": "6582456c",
   "metadata": {},
   "outputs": [
    {
     "ename": "TypeError",
     "evalue": "meetup.date.getDate is not a function",
     "output_type": "error",
     "traceback": [
      "evalmachine.<anonymous>:3",
      "meetup.date.getDate();",
      "            ^",
      "",
      "TypeError: meetup.date.getDate is not a function",
      "    at evalmachine.<anonymous>:3:13",
      "    at Script.runInThisContext (node:vm:129:12)",
      "    at Object.runInThisContext (node:vm:305:38)",
      "    at run ([eval]:1020:15)",
      "    at onRunRequest ([eval]:864:18)",
      "    at onMessage ([eval]:828:13)",
      "    at process.emit (node:events:527:28)",
      "    at emit (node:internal/child_process:938:14)",
      "    at processTicksAndRejections (node:internal/process/task_queues:84:21)"
     ]
    }
   ],
   "source": [
    "str = '{\"title\":\"Conference\",\"date\":\"2017-11-30T12:00:00.000Z\"}';\n",
    "meetup = JSON.parse(str);\n",
    "meetup.date.getDate();"
   ]
  },
  {
   "attachments": {},
   "cell_type": "markdown",
   "id": "e8eaf782",
   "metadata": {},
   "source": [
    "The value of `meetup.date` is a string, not a `Date` object. How could `JSON.parse` know that it should transform that string into a `Date`?\n",
    "\n",
    "Let’s pass to `JSON.parse` the `reviving` function as the second argument, that returns all values “as is”, but date will become a `Date`:"
   ]
  },
  {
   "cell_type": "code",
   "execution_count": 37,
   "id": "4fbafada",
   "metadata": {},
   "outputs": [
    {
     "data": {
      "text/plain": [
       "{ title: 'Conference', date: 2017-11-30T12:00:00.000Z }"
      ]
     },
     "execution_count": 37,
     "metadata": {},
     "output_type": "execute_result"
    }
   ],
   "source": [
    "str = '{\"title\":\"Conference\",\"date\":\"2017-11-30T12:00:00.000Z\"}';\n",
    "meetup = JSON.parse(\n",
    "    str=str, reviver=(key, value) => {\n",
    "        if (key === 'date') {\n",
    "            return new Date(value);\n",
    "        } else {\n",
    "            return value;\n",
    "        }\n",
    "    }\n",
    ");\n",
    "\n",
    "meetup;"
   ]
  },
  {
   "cell_type": "code",
   "execution_count": 38,
   "id": "0d8dd0ad",
   "metadata": {},
   "outputs": [
    {
     "data": {
      "text/plain": [
       "30"
      ]
     },
     "execution_count": 38,
     "metadata": {},
     "output_type": "execute_result"
    }
   ],
   "source": [
    "meetup.date.getDate();"
   ]
  },
  {
   "cell_type": "code",
   "execution_count": 39,
   "id": "c9531102",
   "metadata": {},
   "outputs": [
    {
     "data": {
      "text/plain": [
       "2017"
      ]
     },
     "execution_count": 39,
     "metadata": {},
     "output_type": "execute_result"
    }
   ],
   "source": [
    "meetup.date.getFullYear();"
   ]
  },
  {
   "attachments": {},
   "cell_type": "markdown",
   "id": "58ed6f86",
   "metadata": {},
   "source": [
    "### Summary\n",
    "\n",
    "* JSON is a data format that has its own independent standard and libraries for most programming languages.\n",
    "* JSON supports plain objects, arrays, strings, numbers, booleans, and null.\n",
    "* JavaScript provides methods `JSON.stringify` to serialize into JSON and `JSON.parse` to read from JSON.\n",
    "* Both methods support transformer functions for smart reading/writing.\n",
    "* If an object has `toJSON`, then it is called by `JSON.stringify`."
   ]
  },
  {
   "attachments": {},
   "cell_type": "markdown",
   "id": "7b47dd99",
   "metadata": {},
   "source": [
    "### Tasks"
   ]
  },
  {
   "attachments": {},
   "cell_type": "markdown",
   "id": "847d774b",
   "metadata": {},
   "source": [
    "#### Task 1\n",
    "\n",
    "Turn the user into JSON and then read it back into another variable."
   ]
  },
  {
   "cell_type": "code",
   "execution_count": 40,
   "id": "7a25c682",
   "metadata": {},
   "outputs": [
    {
     "data": {
      "text/plain": [
       "{ name: 'John Smith', age: 35 }"
      ]
     },
     "execution_count": 40,
     "metadata": {},
     "output_type": "execute_result"
    }
   ],
   "source": [
    "user = {\n",
    "  name: \"John Smith\",\n",
    "  age: 35\n",
    "};"
   ]
  },
  {
   "cell_type": "code",
   "execution_count": 41,
   "id": "2ddb4450",
   "metadata": {},
   "outputs": [
    {
     "data": {
      "text/plain": [
       "'{\"name\":\"John Smith\",\"age\":35}'"
      ]
     },
     "execution_count": 41,
     "metadata": {},
     "output_type": "execute_result"
    }
   ],
   "source": [
    "let serializedData = JSON.stringify(value=user);\n",
    "serializedData;"
   ]
  },
  {
   "cell_type": "code",
   "execution_count": 42,
   "id": "84a3417c",
   "metadata": {},
   "outputs": [
    {
     "data": {
      "text/plain": [
       "{ name: 'John Smith', age: 35 }"
      ]
     },
     "execution_count": 42,
     "metadata": {},
     "output_type": "execute_result"
    }
   ],
   "source": [
    "let parsedData = JSON.parse(str=serializedData);\n",
    "parsedData;"
   ]
  },
  {
   "attachments": {},
   "cell_type": "markdown",
   "id": "92f4b3b8",
   "metadata": {},
   "source": [
    "#### Task 2\n",
    "\n",
    "In simple cases of circular references, we can exclude an offending property from serialization by its name.\n",
    "\n",
    "But sometimes we can’t just use the name, as it may be used both in circular references and normal properties. So we can check the property by its value.\n",
    "\n",
    "Write `replacer` function to stringify everything, but remove properties that reference `meetup`:"
   ]
  },
  {
   "cell_type": "code",
   "execution_count": 43,
   "id": "bcf94cc5",
   "metadata": {},
   "outputs": [
    {
     "data": {
      "text/plain": [
       "{\n",
       "  title: 'Conference',\n",
       "  place: { number: 25 },\n",
       "  occupiedBy: [ { name: 'John' }, { name: 'Alice' } ]\n",
       "}"
      ]
     },
     "execution_count": 43,
     "metadata": {},
     "output_type": "execute_result"
    }
   ],
   "source": [
    "room = {\n",
    "    number: 25,\n",
    "};\n",
    "\n",
    "meetup = {\n",
    "    title: \"Conference\",\n",
    "    place: room,\n",
    "    occupiedBy: [\n",
    "        {name: 'John'},\n",
    "        {name: 'Alice'}\n",
    "    ],\n",
    "};"
   ]
  },
  {
   "cell_type": "code",
   "execution_count": 44,
   "id": "d2c598fa",
   "metadata": {},
   "outputs": [
    {
     "data": {
      "text/plain": [
       "<ref *1> {\n",
       "  title: 'Conference',\n",
       "  place: { number: 25, occupiedBy: [Circular *1] },\n",
       "  occupiedBy: [ { name: 'John' }, { name: 'Alice' } ],\n",
       "  self: [Circular *1]\n",
       "}"
      ]
     },
     "execution_count": 44,
     "metadata": {},
     "output_type": "execute_result"
    }
   ],
   "source": [
    "// circular references\n",
    "room.occupiedBy = meetup;\n",
    "meetup.self = meetup;"
   ]
  },
  {
   "cell_type": "code",
   "execution_count": 45,
   "id": "ffb1b5be",
   "metadata": {},
   "outputs": [
    {
     "data": {
      "text/plain": [
       "[ 'title', 'place', 'occupiedBy', 'self' ]"
      ]
     },
     "execution_count": 45,
     "metadata": {},
     "output_type": "execute_result"
    }
   ],
   "source": [
    "Object.keys(meetup);"
   ]
  },
  {
   "cell_type": "code",
   "execution_count": 46,
   "id": "dd814197",
   "metadata": {},
   "outputs": [
    {
     "data": {
      "text/plain": [
       "[\n",
       "  'Conference',\n",
       "  <ref *1> {\n",
       "    number: 25,\n",
       "    occupiedBy: <ref *2> {\n",
       "      title: 'Conference',\n",
       "      place: [Circular *1],\n",
       "      occupiedBy: [Array],\n",
       "      self: [Circular *2]\n",
       "    }\n",
       "  },\n",
       "  [ { name: 'John' }, { name: 'Alice' } ],\n",
       "  <ref *2> {\n",
       "    title: 'Conference',\n",
       "    place: <ref *1> { number: 25, occupiedBy: [Circular *2] },\n",
       "    occupiedBy: [ [Object], [Object] ],\n",
       "    self: [Circular *2]\n",
       "  }\n",
       "]"
      ]
     },
     "execution_count": 46,
     "metadata": {},
     "output_type": "execute_result"
    }
   ],
   "source": [
    "Object.values(meetup);"
   ]
  },
  {
   "cell_type": "code",
   "execution_count": 47,
   "id": "a401dfa2",
   "metadata": {},
   "outputs": [
    {
     "data": {
      "text/plain": [
       "[\n",
       "  [ 'title', 'Conference' ],\n",
       "  [ 'place', { number: 25, occupiedBy: [Object] } ],\n",
       "  [ 'occupiedBy', [ [Object], [Object] ] ],\n",
       "  [\n",
       "    'self',\n",
       "    <ref *1> {\n",
       "      title: 'Conference',\n",
       "      place: [Object],\n",
       "      occupiedBy: [Array],\n",
       "      self: [Circular *1]\n",
       "    }\n",
       "  ]\n",
       "]"
      ]
     },
     "execution_count": 47,
     "metadata": {},
     "output_type": "execute_result"
    }
   ],
   "source": [
    "Object.entries(meetup);"
   ]
  },
  {
   "cell_type": "code",
   "execution_count": 48,
   "id": "ca000c23",
   "metadata": {},
   "outputs": [
    {
     "data": {
      "text/plain": [
       "'{\"title\":\"Conference\",\"place\":{\"number\":25},\"occupiedBy\":[{\"name\":\"John\"},{\"name\":\"Alice\"}]}'"
      ]
     },
     "execution_count": 48,
     "metadata": {},
     "output_type": "execute_result"
    }
   ],
   "source": [
    "serializedData = JSON.stringify(value=meetup, replacer=(key, value) => {\n",
    "    return (key != \"\" && value===meetup) ? undefined: value;\n",
    "});\n",
    "\n",
    "serializedData;"
   ]
  }
 ],
 "metadata": {
  "kernelspec": {
   "display_name": "Javascript (Node.js)",
   "language": "javascript",
   "name": "javascript"
  },
  "language_info": {
   "file_extension": ".js",
   "mimetype": "application/javascript",
   "name": "javascript",
   "version": "16.16.0"
  }
 },
 "nbformat": 4,
 "nbformat_minor": 5
}
